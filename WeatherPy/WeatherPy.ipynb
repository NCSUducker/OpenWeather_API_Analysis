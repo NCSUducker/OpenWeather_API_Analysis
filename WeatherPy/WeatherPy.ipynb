{
 "cells": [
  {
   "cell_type": "code",
   "execution_count": 1,
   "metadata": {},
   "outputs": [],
   "source": [
    "# Dependencies and Setup\n",
    "import matplotlib.pyplot as plt\n",
    "import pandas as pd\n",
    "import numpy as np\n",
    "import requests\n",
    "import gmaps\n",
    "import os\n",
    "import json\n",
    "import time\n",
    "import scipy.stats as st\n",
    "from scipy.stats import linregress\n",
    "\n",
    "#citipy to determine lat/lngs of cities\n",
    "from citipy import citipy\n",
    "\n",
    "# Import API Key\n",
    "from api_keys import weather_api_key\n",
    "\n",
    "#file to store cities output data\n",
    "city_data = \"city_data.csv\"\n",
    "\n",
    "#lat/Lng range\n",
    "lat_range = (-90, 90)\n",
    "lng_range = (-180, 180)"
   ]
  },
  {
   "cell_type": "code",
   "execution_count": 2,
   "metadata": {},
   "outputs": [
    {
     "data": {
      "text/plain": [
       "588"
      ]
     },
     "execution_count": 2,
     "metadata": {},
     "output_type": "execute_result"
    }
   ],
   "source": [
    "#list for cities and list lat and lngs, use zip to combine\n",
    "lat_lngs = [] \n",
    "cities = [] \n",
    "\n",
    "#random variation for lat lngs\n",
    "lats = np.random.uniform(low=-90.000, high=90.000, size=1500)\n",
    "lngs = np.random.uniform(low=-180.000, high=180.000, size=1500)\n",
    "lat_lngs = zip(lats, lngs)\n",
    "\n",
    "#acquire closest city from lat/lng combination with for loop\n",
    "for lat_lngs in lat_lngs:\n",
    "    city = citipy.nearest_city(lat_lngs[0], lat_lngs[1]).city_name\n",
    "    \n",
    "    #make unique values in cities list to avoid duplicates\n",
    "    if city not in cities:\n",
    "        cities.append(city)\n",
    "#generate cities list\n",
    "len(cities)\n"
   ]
  },
  {
   "cell_type": "code",
   "execution_count": 3,
   "metadata": {},
   "outputs": [],
   "source": [
    "#generate lists for weather variables in cities\n",
    "\n",
    "city_name_list = []\n",
    "cloudiness_list = []\n",
    "country_list = []\n",
    "date_list = []\n",
    "humidity_list = []\n",
    "lat_list = []\n",
    "lng_list = []\n",
    "max_temp_list = []\n",
    "wind_speed_list = []\n",
    "index_counter = 0\n",
    "set_counter = 1"
   ]
  },
  {
   "cell_type": "code",
   "execution_count": 4,
   "metadata": {},
   "outputs": [
    {
     "name": "stdout",
     "output_type": "stream",
     "text": [
      "Beginning Data Retrieval \n",
      "-----------------------------\n",
      "Processing Record 1 of Set 1 : namibe\n",
      "Processing Record 2 of Set 1 : ereymentau\n",
      "Processing Record 3 of Set 1 : kitob\n",
      "City not found. Skipping...\n",
      "Processing Record 4 of Set 1 : vila velha\n",
      "Processing Record 5 of Set 1 : ostersund\n",
      "Processing Record 6 of Set 1 : port alfred\n",
      "Processing Record 7 of Set 1 : prince rupert\n",
      "City not found. Skipping...\n",
      "Processing Record 8 of Set 1 : martapura\n",
      "Processing Record 9 of Set 1 : busselton\n",
      "Processing Record 10 of Set 1 : kardailovo\n",
      "Processing Record 11 of Set 1 : arteaga\n",
      "Processing Record 12 of Set 1 : atuona\n",
      "Processing Record 13 of Set 1 : yellowknife\n",
      "Processing Record 14 of Set 1 : mount isa\n",
      "Processing Record 15 of Set 1 : butaritari\n",
      "Processing Record 16 of Set 1 : torbay\n",
      "Processing Record 17 of Set 1 : borogontsy\n",
      "Processing Record 18 of Set 1 : lethem\n",
      "Processing Record 19 of Set 1 : bluff\n",
      "Processing Record 20 of Set 1 : hobart\n",
      "Processing Record 21 of Set 1 : zhangye\n",
      "Processing Record 22 of Set 1 : turtas\n",
      "Processing Record 23 of Set 1 : nanfeng\n",
      "Processing Record 24 of Set 1 : port macquarie\n",
      "City not found. Skipping...\n",
      "Processing Record 25 of Set 1 : punta arenas\n",
      "Processing Record 26 of Set 1 : parrita\n",
      "Processing Record 27 of Set 1 : pilikwe\n",
      "Processing Record 28 of Set 1 : ushuaia\n",
      "Processing Record 29 of Set 1 : rikitea\n",
      "Processing Record 30 of Set 1 : puerto leguizamo\n",
      "Processing Record 31 of Set 1 : charleville-mezieres\n",
      "Processing Record 32 of Set 1 : port augusta\n",
      "Processing Record 33 of Set 1 : naze\n",
      "Processing Record 34 of Set 1 : guerrero negro\n",
      "Processing Record 35 of Set 1 : jamestown\n",
      "Processing Record 36 of Set 1 : puerto ayora\n",
      "Processing Record 37 of Set 1 : hobyo\n",
      "Processing Record 38 of Set 1 : geraldton\n",
      "Processing Record 39 of Set 1 : chaman\n",
      "City not found. Skipping...\n",
      "Processing Record 40 of Set 1 : vardo\n",
      "Processing Record 41 of Set 1 : musoma\n",
      "Processing Record 42 of Set 1 : castro\n",
      "Processing Record 43 of Set 1 : hasaki\n",
      "Processing Record 44 of Set 1 : pangnirtung\n",
      "Processing Record 45 of Set 1 : dingle\n",
      "Processing Record 46 of Set 1 : sezana\n",
      "Processing Record 47 of Set 1 : carnarvon\n",
      "Processing Record 48 of Set 1 : praia\n",
      "Processing Record 49 of Set 1 : chuy\n",
      "Processing Record 50 of Set 1 : ahipara\n",
      "Processing Record 0 of Set 2 : kaitangata\n",
      "Processing Record 1 of Set 2 : hilo\n",
      "City not found. Skipping...\n",
      "Processing Record 2 of Set 2 : quchan\n",
      "Processing Record 3 of Set 2 : albany\n",
      "Processing Record 4 of Set 2 : hambantota\n",
      "Processing Record 5 of Set 2 : kapaa\n",
      "Processing Record 6 of Set 2 : talnakh\n",
      "Processing Record 7 of Set 2 : pevek\n",
      "Processing Record 8 of Set 2 : big spring\n",
      "Processing Record 9 of Set 2 : invercargill\n",
      "Processing Record 10 of Set 2 : avarua\n",
      "Processing Record 11 of Set 2 : xinyu\n",
      "Processing Record 12 of Set 2 : bambous virieux\n",
      "Processing Record 13 of Set 2 : kaeo\n",
      "Processing Record 14 of Set 2 : mar del plata\n",
      "Processing Record 15 of Set 2 : hithadhoo\n",
      "Processing Record 16 of Set 2 : dunedin\n",
      "Processing Record 17 of Set 2 : fortuna\n",
      "Processing Record 18 of Set 2 : pemba\n",
      "Processing Record 19 of Set 2 : ponta do sol\n",
      "Processing Record 20 of Set 2 : keroka\n",
      "Processing Record 21 of Set 2 : hermanus\n",
      "Processing Record 22 of Set 2 : airai\n",
      "Processing Record 23 of Set 2 : viedma\n",
      "Processing Record 24 of Set 2 : saint-philippe\n",
      "Processing Record 25 of Set 2 : chapais\n",
      "Processing Record 26 of Set 2 : kruisfontein\n",
      "Processing Record 27 of Set 2 : senanga\n",
      "Processing Record 28 of Set 2 : oksfjord\n",
      "Processing Record 29 of Set 2 : qaanaaq\n",
      "Processing Record 30 of Set 2 : ust-maya\n",
      "Processing Record 31 of Set 2 : new norfolk\n",
      "Processing Record 32 of Set 2 : tuktoyaktuk\n",
      "Processing Record 33 of Set 2 : letterkenny\n",
      "Processing Record 34 of Set 2 : mataura\n",
      "Processing Record 35 of Set 2 : victoria\n",
      "Processing Record 36 of Set 2 : estacion coahuila\n",
      "Processing Record 37 of Set 2 : puerto del rosario\n",
      "Processing Record 38 of Set 2 : ixtapa\n",
      "Processing Record 39 of Set 2 : vaini\n",
      "City not found. Skipping...\n",
      "Processing Record 40 of Set 2 : bredasdorp\n",
      "Processing Record 41 of Set 2 : bubaque\n",
      "Processing Record 42 of Set 2 : yenagoa\n",
      "Processing Record 43 of Set 2 : olafsvik\n",
      "Processing Record 44 of Set 2 : saint anthony\n",
      "Processing Record 45 of Set 2 : upernavik\n",
      "Processing Record 46 of Set 2 : lazaro cardenas\n",
      "Processing Record 47 of Set 2 : cape town\n",
      "Processing Record 48 of Set 2 : khandbari\n",
      "City not found. Skipping...\n",
      "Processing Record 49 of Set 2 : lat yao\n",
      "City not found. Skipping...\n",
      "Processing Record 50 of Set 2 : ilulissat\n",
      "Processing Record 0 of Set 3 : haines junction\n",
      "Processing Record 1 of Set 3 : fairbanks\n",
      "Processing Record 2 of Set 3 : harper\n",
      "Processing Record 3 of Set 3 : bandarbeyla\n",
      "Processing Record 4 of Set 3 : grindavik\n",
      "Processing Record 5 of Set 3 : lagoa\n",
      "Processing Record 6 of Set 3 : yar-sale\n",
      "Processing Record 7 of Set 3 : fort nelson\n",
      "Processing Record 8 of Set 3 : chimbote\n",
      "Processing Record 9 of Set 3 : codrington\n",
      "Processing Record 10 of Set 3 : znamenskoye\n",
      "Processing Record 11 of Set 3 : krasnyy\n",
      "Processing Record 12 of Set 3 : ancud\n",
      "Processing Record 13 of Set 3 : bethel\n",
      "Processing Record 14 of Set 3 : thompson\n",
      "Processing Record 15 of Set 3 : yulara\n",
      "Processing Record 16 of Set 3 : provideniya\n",
      "Processing Record 17 of Set 3 : dindigul\n",
      "Processing Record 18 of Set 3 : requena\n",
      "Processing Record 19 of Set 3 : cayenne\n",
      "Processing Record 20 of Set 3 : teknaf\n",
      "Processing Record 21 of Set 3 : panguna\n",
      "Processing Record 22 of Set 3 : iaciara\n",
      "Processing Record 23 of Set 3 : tezu\n",
      "Processing Record 24 of Set 3 : port elizabeth\n",
      "Processing Record 25 of Set 3 : havoysund\n",
      "City not found. Skipping...\n",
      "Processing Record 26 of Set 3 : chokurdakh\n",
      "Processing Record 27 of Set 3 : banda aceh\n",
      "Processing Record 28 of Set 3 : jhanjharpur\n",
      "Processing Record 29 of Set 3 : alpena\n",
      "Processing Record 30 of Set 3 : eureka\n",
      "Processing Record 31 of Set 3 : khatanga\n",
      "Processing Record 32 of Set 3 : vestmannaeyjar\n",
      "Processing Record 33 of Set 3 : oistins\n",
      "Processing Record 34 of Set 3 : cherskiy\n",
      "Processing Record 35 of Set 3 : hofn\n",
      "Processing Record 36 of Set 3 : arraial do cabo\n",
      "Processing Record 37 of Set 3 : nyimba\n",
      "City not found. Skipping...\n",
      "Processing Record 38 of Set 3 : delmas\n",
      "Processing Record 39 of Set 3 : champerico\n",
      "Processing Record 40 of Set 3 : khudumelapye\n",
      "Processing Record 41 of Set 3 : ribeira grande\n",
      "Processing Record 42 of Set 3 : kavieng\n",
      "Processing Record 43 of Set 3 : roald\n",
      "City not found. Skipping...\n",
      "Processing Record 44 of Set 3 : hun\n",
      "Processing Record 45 of Set 3 : xinglongshan\n",
      "Processing Record 46 of Set 3 : sitka\n",
      "Processing Record 47 of Set 3 : tautira\n",
      "Processing Record 48 of Set 3 : birigui\n",
      "Processing Record 49 of Set 3 : east london\n",
      "Processing Record 50 of Set 3 : mantua\n",
      "City not found. Skipping...\n",
      "Processing Record 0 of Set 4 : tuatapere\n",
      "Processing Record 1 of Set 4 : sao jose da coroa grande\n",
      "Processing Record 2 of Set 4 : zabaykalsk\n",
      "Processing Record 3 of Set 4 : zhezkazgan\n",
      "Processing Record 4 of Set 4 : sinnamary\n",
      "Processing Record 5 of Set 4 : mlonggo\n",
      "Processing Record 6 of Set 4 : biak\n",
      "Processing Record 7 of Set 4 : hualmay\n",
      "Processing Record 8 of Set 4 : aksarka\n",
      "Processing Record 9 of Set 4 : west wendover\n",
      "Processing Record 10 of Set 4 : katobu\n",
      "Processing Record 11 of Set 4 : narsaq\n",
      "Processing Record 12 of Set 4 : te anau\n",
      "Processing Record 13 of Set 4 : akyab\n",
      "Processing Record 14 of Set 4 : alihe\n",
      "Processing Record 15 of Set 4 : cordoba\n",
      "Processing Record 16 of Set 4 : cabo san lucas\n",
      "Processing Record 17 of Set 4 : sao filipe\n",
      "Processing Record 18 of Set 4 : candating\n",
      "Processing Record 19 of Set 4 : korla\n",
      "Processing Record 20 of Set 4 : faanui\n",
      "Processing Record 21 of Set 4 : kieta\n",
      "Processing Record 22 of Set 4 : waitara\n",
      "Processing Record 23 of Set 4 : jumla\n",
      "Processing Record 24 of Set 4 : high level\n",
      "Processing Record 25 of Set 4 : gamba\n",
      "Processing Record 26 of Set 4 : nantucket\n",
      "Processing Record 27 of Set 4 : taltal\n",
      "Processing Record 28 of Set 4 : roma\n",
      "Processing Record 29 of Set 4 : santa marta\n",
      "Processing Record 30 of Set 4 : puerto escondido\n",
      "Processing Record 31 of Set 4 : nikolskoye\n",
      "Processing Record 32 of Set 4 : kathmandu\n",
      "Processing Record 33 of Set 4 : bathsheba\n",
      "Processing Record 34 of Set 4 : pemangkat\n",
      "Processing Record 35 of Set 4 : puerto carreno\n",
      "Processing Record 36 of Set 4 : santo tomas\n",
      "Processing Record 37 of Set 4 : tigre\n",
      "Processing Record 38 of Set 4 : sioux lookout\n",
      "Processing Record 39 of Set 4 : mayya\n",
      "Processing Record 40 of Set 4 : poltavka\n",
      "Processing Record 41 of Set 4 : kodiak\n",
      "Processing Record 42 of Set 4 : vangaindrano\n",
      "Processing Record 43 of Set 4 : mount gambier\n",
      "Processing Record 44 of Set 4 : rawson\n",
      "Processing Record 45 of Set 4 : beringovskiy\n",
      "Processing Record 46 of Set 4 : fairview\n",
      "Processing Record 47 of Set 4 : camana\n",
      "Processing Record 48 of Set 4 : san patricio\n",
      "City not found. Skipping...\n",
      "Processing Record 49 of Set 4 : barrow\n",
      "Processing Record 50 of Set 4 : hokitika\n",
      "Processing Record 0 of Set 5 : kangaatsiaq\n",
      "Processing Record 1 of Set 5 : dawei\n",
      "Processing Record 2 of Set 5 : ponta delgada\n",
      "Processing Record 3 of Set 5 : garden city\n",
      "Processing Record 4 of Set 5 : acari\n",
      "Processing Record 5 of Set 5 : kahului\n",
      "Processing Record 6 of Set 5 : arlit\n",
      "Processing Record 7 of Set 5 : lebu\n",
      "Processing Record 8 of Set 5 : iqaluit\n",
      "Processing Record 9 of Set 5 : vilhena\n",
      "Processing Record 10 of Set 5 : thinadhoo\n",
      "Processing Record 11 of Set 5 : talakan\n",
      "Processing Record 12 of Set 5 : tiksi\n",
      "Processing Record 13 of Set 5 : longyearbyen\n",
      "City not found. Skipping...\n",
      "Processing Record 14 of Set 5 : kisarawe\n",
      "Processing Record 15 of Set 5 : qarqin\n",
      "Processing Record 16 of Set 5 : stege\n",
      "Processing Record 17 of Set 5 : dong xoai\n",
      "Processing Record 18 of Set 5 : fort payne\n",
      "Processing Record 19 of Set 5 : mahenge\n",
      "City not found. Skipping...\n",
      "Processing Record 20 of Set 5 : sisimiut\n",
      "Processing Record 21 of Set 5 : luis correia\n",
      "Processing Record 22 of Set 5 : nordfjordeid\n",
      "Processing Record 23 of Set 5 : filadelfia\n",
      "Processing Record 24 of Set 5 : salalah\n",
      "Processing Record 25 of Set 5 : tevaitoa\n",
      "Processing Record 26 of Set 5 : port moresby\n",
      "Processing Record 27 of Set 5 : anadyr\n",
      "Processing Record 28 of Set 5 : laurel\n",
      "Processing Record 29 of Set 5 : bourail\n",
      "Processing Record 30 of Set 5 : saskylakh\n",
      "Processing Record 31 of Set 5 : san cristobal\n",
      "Processing Record 32 of Set 5 : avera\n",
      "Processing Record 33 of Set 5 : lavrentiya\n",
      "Processing Record 34 of Set 5 : samarai\n",
      "Processing Record 35 of Set 5 : severo-kurilsk\n",
      "Processing Record 36 of Set 5 : gallup\n",
      "Processing Record 37 of Set 5 : aleksandrov\n",
      "Processing Record 38 of Set 5 : luderitz\n",
      "Processing Record 39 of Set 5 : oranjemund\n",
      "Processing Record 40 of Set 5 : chepo\n",
      "City not found. Skipping...\n",
      "Processing Record 41 of Set 5 : rorvik\n",
      "Processing Record 42 of Set 5 : kralendijk\n",
      "Processing Record 43 of Set 5 : belle fourche\n",
      "Processing Record 44 of Set 5 : nanortalik\n",
      "Processing Record 45 of Set 5 : pisco\n",
      "Processing Record 46 of Set 5 : murgab\n",
      "Processing Record 47 of Set 5 : mehamn\n",
      "Processing Record 48 of Set 5 : kungurtug\n",
      "Processing Record 49 of Set 5 : pavlovskiy\n",
      "Processing Record 50 of Set 5 : miri\n",
      "Processing Record 0 of Set 6 : richards bay\n",
      "Processing Record 1 of Set 6 : souillac\n",
      "Processing Record 2 of Set 6 : dikson\n",
      "City not found. Skipping...\n",
      "City not found. Skipping...\n",
      "Processing Record 3 of Set 6 : palmer\n",
      "City not found. Skipping...\n",
      "Processing Record 4 of Set 6 : georgetown\n",
      "Processing Record 5 of Set 6 : linxia\n",
      "Processing Record 6 of Set 6 : flagstaff\n",
      "Processing Record 7 of Set 6 : coolum beach\n",
      "City not found. Skipping...\n",
      "Processing Record 8 of Set 6 : talcahuano\n",
      "Processing Record 9 of Set 6 : kutum\n",
      "Processing Record 10 of Set 6 : semnan\n",
      "Processing Record 11 of Set 6 : enshi\n",
      "Processing Record 12 of Set 6 : bengkulu\n",
      "Processing Record 13 of Set 6 : coahuayana\n",
      "Processing Record 14 of Set 6 : hirara\n",
      "Processing Record 15 of Set 6 : mahebourg\n",
      "Processing Record 16 of Set 6 : ciudad del maiz\n",
      "Processing Record 17 of Set 6 : constitucion\n",
      "Processing Record 18 of Set 6 : cowansville\n",
      "Processing Record 19 of Set 6 : nichlaul\n",
      "Processing Record 20 of Set 6 : zabol\n",
      "Processing Record 21 of Set 6 : half moon bay\n",
      "Processing Record 22 of Set 6 : timra\n",
      "Processing Record 23 of Set 6 : muslyumovo\n",
      "Processing Record 24 of Set 6 : marawi\n",
      "Processing Record 25 of Set 6 : alta floresta\n",
      "Processing Record 26 of Set 6 : shelburne\n",
      "Processing Record 27 of Set 6 : arrecife\n",
      "Processing Record 28 of Set 6 : inuvik\n",
      "Processing Record 29 of Set 6 : tecoanapa\n",
      "Processing Record 30 of Set 6 : kamenka\n",
      "Processing Record 31 of Set 6 : dicabisagan\n",
      "Processing Record 32 of Set 6 : broome\n",
      "Processing Record 33 of Set 6 : dwarka\n",
      "Processing Record 34 of Set 6 : presidencia roque saenz pena\n",
      "Processing Record 35 of Set 6 : jaisinghnagar\n",
      "Processing Record 36 of Set 6 : kaspiyskiy\n",
      "Processing Record 37 of Set 6 : grand gaube\n",
      "Processing Record 38 of Set 6 : koindu\n",
      "Processing Record 39 of Set 6 : maumere\n",
      "Processing Record 40 of Set 6 : abhar\n",
      "Processing Record 41 of Set 6 : port hawkesbury\n",
      "Processing Record 42 of Set 6 : bouloupari\n",
      "Processing Record 43 of Set 6 : libusin\n",
      "Processing Record 44 of Set 6 : zavodouspenskoye\n",
      "City not found. Skipping...\n",
      "Processing Record 45 of Set 6 : sangar\n",
      "Processing Record 46 of Set 6 : bonavista\n",
      "Processing Record 47 of Set 6 : sao joao da barra\n",
      "Processing Record 48 of Set 6 : makakilo city\n",
      "Processing Record 49 of Set 6 : aklavik\n",
      "City not found. Skipping...\n",
      "Processing Record 50 of Set 6 : qaqortoq\n",
      "Processing Record 0 of Set 7 : uncia\n",
      "Processing Record 1 of Set 7 : laguna\n",
      "Processing Record 2 of Set 7 : katsuura\n",
      "Processing Record 3 of Set 7 : namatanai\n",
      "Processing Record 4 of Set 7 : port hardy\n",
      "Processing Record 5 of Set 7 : quatre cocos\n",
      "Processing Record 6 of Set 7 : saint george\n",
      "Processing Record 7 of Set 7 : dongsheng\n",
      "Processing Record 8 of Set 7 : asfi\n",
      "Processing Record 9 of Set 7 : mirabela\n",
      "Processing Record 10 of Set 7 : kailua\n",
      "Processing Record 11 of Set 7 : witu\n",
      "Processing Record 12 of Set 7 : luganville\n",
      "City not found. Skipping...\n",
      "Processing Record 13 of Set 7 : gat\n",
      "City not found. Skipping...\n",
      "Processing Record 14 of Set 7 : saint-pierre\n",
      "Processing Record 15 of Set 7 : jiazi\n",
      "Processing Record 16 of Set 7 : klyuchi\n",
      "Processing Record 17 of Set 7 : saldanha\n",
      "Processing Record 18 of Set 7 : portage\n",
      "Processing Record 19 of Set 7 : nishihara\n",
      "Processing Record 20 of Set 7 : komsomolskiy\n",
      "Processing Record 21 of Set 7 : dakar\n",
      "Processing Record 22 of Set 7 : hashimoto\n",
      "Processing Record 23 of Set 7 : khromtau\n",
      "Processing Record 24 of Set 7 : hamilton\n",
      "Processing Record 25 of Set 7 : marsa matruh\n",
      "Processing Record 26 of Set 7 : egvekinot\n",
      "Processing Record 27 of Set 7 : asau\n",
      "Processing Record 28 of Set 7 : fomboni\n",
      "Processing Record 29 of Set 7 : vila franca do campo\n",
      "Processing Record 30 of Set 7 : bosaso\n",
      "Processing Record 31 of Set 7 : russell\n",
      "Processing Record 32 of Set 7 : kasongo-lunda\n",
      "Processing Record 33 of Set 7 : ejea de los caballeros\n",
      "Processing Record 34 of Set 7 : eyrarbakki\n",
      "Processing Record 35 of Set 7 : burnie\n",
      "Processing Record 36 of Set 7 : paita\n",
      "Processing Record 37 of Set 7 : caravelas\n",
      "Processing Record 38 of Set 7 : puerto colombia\n",
      "Processing Record 39 of Set 7 : cidreira\n",
      "Processing Record 40 of Set 7 : juneau\n",
      "Processing Record 41 of Set 7 : ampanihy\n",
      "Processing Record 42 of Set 7 : calbuco\n",
      "Processing Record 43 of Set 7 : aksu\n",
      "Processing Record 44 of Set 7 : ahuimanu\n",
      "Processing Record 45 of Set 7 : bairiki\n",
      "Processing Record 46 of Set 7 : tonj\n",
      "Processing Record 47 of Set 7 : flinders\n",
      "Processing Record 48 of Set 7 : brae\n",
      "Processing Record 49 of Set 7 : awjilah\n",
      "Processing Record 50 of Set 7 : touros\n",
      "Processing Record 0 of Set 8 : noumea\n",
      "Processing Record 1 of Set 8 : peniche\n",
      "Processing Record 2 of Set 8 : kvarkeno\n",
      "Processing Record 3 of Set 8 : petatlan\n",
      "Processing Record 4 of Set 8 : portland\n",
      "Processing Record 5 of Set 8 : carbonia\n",
      "Processing Record 6 of Set 8 : sur\n",
      "Processing Record 7 of Set 8 : kloulklubed\n",
      "Processing Record 8 of Set 8 : novoorsk\n",
      "Processing Record 9 of Set 8 : kinablangan\n",
      "Processing Record 10 of Set 8 : thanh hoa\n",
      "Processing Record 11 of Set 8 : kenai\n",
      "Processing Record 12 of Set 8 : waidhofen\n",
      "Processing Record 13 of Set 8 : itaituba\n",
      "Processing Record 14 of Set 8 : inta\n",
      "Processing Record 15 of Set 8 : praia da vitoria\n",
      "Processing Record 16 of Set 8 : cabedelo\n",
      "City not found. Skipping...\n",
      "Processing Record 17 of Set 8 : mehran\n",
      "Processing Record 18 of Set 8 : san antonio\n",
      "Processing Record 19 of Set 8 : skibbereen\n",
      "Processing Record 20 of Set 8 : svetlogorsk\n",
      "Processing Record 21 of Set 8 : husavik\n",
      "Processing Record 22 of Set 8 : manicore\n",
      "Processing Record 23 of Set 8 : carutapera\n",
      "City not found. Skipping...\n",
      "Processing Record 24 of Set 8 : abomsa\n",
      "Processing Record 25 of Set 8 : maltahohe\n",
      "City not found. Skipping...\n",
      "City not found. Skipping...\n",
      "Processing Record 26 of Set 8 : ambulu\n",
      "Processing Record 27 of Set 8 : mildura\n",
      "Processing Record 28 of Set 8 : kandrian\n",
      "Processing Record 29 of Set 8 : san quintin\n",
      "Processing Record 30 of Set 8 : aloleng\n",
      "Processing Record 31 of Set 8 : nassau\n",
      "Processing Record 32 of Set 8 : gambela\n",
      "Processing Record 33 of Set 8 : bilibino\n",
      "Processing Record 34 of Set 8 : goba\n",
      "City not found. Skipping...\n",
      "Processing Record 35 of Set 8 : tura\n",
      "Processing Record 36 of Set 8 : tambovka\n",
      "Processing Record 37 of Set 8 : fuxin\n",
      "Processing Record 38 of Set 8 : burley\n",
      "Processing Record 39 of Set 8 : ringebu\n",
      "Processing Record 40 of Set 8 : abu kamal\n",
      "Processing Record 41 of Set 8 : were ilu\n",
      "Processing Record 42 of Set 8 : newport\n",
      "Processing Record 43 of Set 8 : menongue\n",
      "Processing Record 44 of Set 8 : parnaiba\n",
      "Processing Record 45 of Set 8 : lata\n",
      "Processing Record 46 of Set 8 : mount darwin\n",
      "Processing Record 47 of Set 8 : clyde river\n",
      "Processing Record 48 of Set 8 : kushiro\n",
      "Processing Record 49 of Set 8 : nome\n",
      "Processing Record 50 of Set 8 : moose factory\n",
      "Processing Record 0 of Set 9 : abu samrah\n",
      "Processing Record 1 of Set 9 : boda\n",
      "Processing Record 2 of Set 9 : wanning\n",
      "Processing Record 3 of Set 9 : sept-iles\n",
      "Processing Record 4 of Set 9 : san andres\n",
      "Processing Record 5 of Set 9 : rosignol\n",
      "Processing Record 6 of Set 9 : kandiari\n",
      "Processing Record 7 of Set 9 : statesboro\n",
      "Processing Record 8 of Set 9 : norman wells\n",
      "City not found. Skipping...\n",
      "Processing Record 9 of Set 9 : bar harbor\n",
      "Processing Record 10 of Set 9 : batagay\n",
      "Processing Record 11 of Set 9 : robe\n",
      "Processing Record 12 of Set 9 : holland\n",
      "Processing Record 13 of Set 9 : alyangula\n",
      "City not found. Skipping...\n",
      "Processing Record 14 of Set 9 : atar\n",
      "Processing Record 15 of Set 9 : culebra\n",
      "Processing Record 16 of Set 9 : ostrovnoy\n",
      "Processing Record 17 of Set 9 : neiafu\n",
      "Processing Record 18 of Set 9 : srednekolymsk\n",
      "Processing Record 19 of Set 9 : port hueneme\n",
      "Processing Record 20 of Set 9 : sola\n",
      "Processing Record 21 of Set 9 : ongandjera\n",
      "Processing Record 22 of Set 9 : esperance\n",
      "Processing Record 23 of Set 9 : tasiilaq\n",
      "Processing Record 24 of Set 9 : presidente venceslau\n",
      "Processing Record 25 of Set 9 : lincoln\n",
      "Processing Record 26 of Set 9 : yuzhnyy\n",
      "Processing Record 27 of Set 9 : ngaoundere\n",
      "City not found. Skipping...\n",
      "Processing Record 28 of Set 9 : nuuk\n",
      "Processing Record 29 of Set 9 : nouadhibou\n",
      "Processing Record 30 of Set 9 : mizdah\n",
      "City not found. Skipping...\n",
      "Processing Record 31 of Set 9 : minna\n",
      "Processing Record 32 of Set 9 : aktas\n",
      "Processing Record 33 of Set 9 : appleton\n",
      "City not found. Skipping...\n",
      "Processing Record 34 of Set 9 : olinda\n",
      "Processing Record 35 of Set 9 : kalengwa\n",
      "Processing Record 36 of Set 9 : saint-joseph\n",
      "Processing Record 37 of Set 9 : soroti\n",
      "Processing Record 38 of Set 9 : ukiah\n",
      "Processing Record 39 of Set 9 : gresham\n",
      "Processing Record 40 of Set 9 : vestmanna\n",
      "Processing Record 41 of Set 9 : lakes entrance\n",
      "Processing Record 42 of Set 9 : acarau\n",
      "Processing Record 43 of Set 9 : lompoc\n",
      "Processing Record 44 of Set 9 : waipawa\n",
      "Processing Record 45 of Set 9 : javanrud\n",
      "Processing Record 46 of Set 9 : faya\n",
      "Processing Record 47 of Set 9 : nargana\n",
      "Processing Record 48 of Set 9 : puro\n",
      "Processing Record 49 of Set 9 : buala\n",
      "Processing Record 50 of Set 9 : glens falls\n",
      "Processing Record 0 of Set 10 : acapulco\n",
      "City not found. Skipping...\n",
      "Processing Record 1 of Set 10 : boiu mare\n",
      "Processing Record 2 of Set 10 : krasnyy chikoy\n",
      "Processing Record 3 of Set 10 : itarema\n",
      "Processing Record 4 of Set 10 : khorixas\n",
      "Processing Record 5 of Set 10 : medeiros neto\n",
      "Processing Record 6 of Set 10 : shamary\n",
      "Processing Record 7 of Set 10 : ierapetra\n",
      "Processing Record 8 of Set 10 : apopka\n",
      "Processing Record 9 of Set 10 : owando\n",
      "Processing Record 10 of Set 10 : salym\n",
      "Processing Record 11 of Set 10 : alofi\n",
      "Processing Record 12 of Set 10 : colares\n",
      "Processing Record 13 of Set 10 : hornepayne\n",
      "Processing Record 14 of Set 10 : yumen\n",
      "Processing Record 15 of Set 10 : chardara\n",
      "Processing Record 16 of Set 10 : nyrob\n",
      "Processing Record 17 of Set 10 : itoman\n",
      "Processing Record 18 of Set 10 : petropavlovsk-kamchatskiy\n",
      "Processing Record 19 of Set 10 : bafoulabe\n",
      "City not found. Skipping...\n",
      "Processing Record 20 of Set 10 : nezhinka\n",
      "Processing Record 21 of Set 10 : limbang\n",
      "Processing Record 22 of Set 10 : micheweni\n",
      "Processing Record 23 of Set 10 : kharabali\n",
      "Processing Record 24 of Set 10 : halifax\n",
      "City not found. Skipping...\n",
      "Processing Record 25 of Set 10 : berlevag\n",
      "City not found. Skipping...\n",
      "Processing Record 26 of Set 10 : port-gentil\n",
      "Processing Record 27 of Set 10 : karakol\n",
      "Processing Record 28 of Set 10 : north bend\n",
      "Processing Record 29 of Set 10 : ures\n",
      "City not found. Skipping...\n",
      "City not found. Skipping...\n",
      "Processing Record 30 of Set 10 : frumusita\n",
      "Processing Record 31 of Set 10 : vanimo\n",
      "Processing Record 32 of Set 10 : ulladulla\n",
      "Processing Record 33 of Set 10 : atasu\n",
      "Processing Record 34 of Set 10 : mnogovershinnyy\n",
      "Processing Record 35 of Set 10 : padang\n",
      "Processing Record 36 of Set 10 : antofagasta\n",
      "City not found. Skipping...\n",
      "Processing Record 37 of Set 10 : khammam\n",
      "Processing Record 38 of Set 10 : mogok\n",
      "Processing Record 39 of Set 10 : athabasca\n",
      "Processing Record 40 of Set 10 : kirando\n",
      "Processing Record 41 of Set 10 : salamanca\n",
      "City not found. Skipping...\n",
      "City not found. Skipping...\n",
      "Processing Record 42 of Set 10 : pauini\n",
      "Processing Record 43 of Set 10 : voh\n",
      "Processing Record 44 of Set 10 : shagonar\n",
      "Processing Record 45 of Set 10 : orizona\n",
      "Processing Record 46 of Set 10 : nelson bay\n",
      "Processing Record 47 of Set 10 : samdrup jongkhar\n",
      "Processing Record 48 of Set 10 : vyshkov\n",
      "Processing Record 49 of Set 10 : ozernovskiy\n",
      "Processing Record 50 of Set 10 : anshun\n",
      "Processing Record 0 of Set 11 : smithers\n",
      "City not found. Skipping...\n",
      "Processing Record 1 of Set 11 : dulce grande\n",
      "City not found. Skipping...\n",
      "Processing Record 2 of Set 11 : kajaani\n",
      "City not found. Skipping...\n",
      "Processing Record 3 of Set 11 : taos\n",
      "Processing Record 4 of Set 11 : leningradskiy\n",
      "Processing Record 5 of Set 11 : nueva germania\n",
      "Processing Record 6 of Set 11 : jiexiu\n",
      "Processing Record 7 of Set 11 : galich\n",
      "Processing Record 8 of Set 11 : palu\n",
      "City not found. Skipping...\n",
      "Processing Record 9 of Set 11 : ketchikan\n",
      "Processing Record 10 of Set 11 : caldwell\n",
      "City not found. Skipping...\n",
      "Processing Record 11 of Set 11 : troitskoye\n",
      "City not found. Skipping...\n",
      "Processing Record 12 of Set 11 : wajir\n",
      "City not found. Skipping...\n",
      "Processing Record 13 of Set 11 : dawlatabad\n",
      "Processing Record 14 of Set 11 : neuquen\n",
      "Processing Record 15 of Set 11 : along\n",
      "Processing Record 16 of Set 11 : elk plain\n",
      "Processing Record 17 of Set 11 : tchaourou\n",
      "Processing Record 18 of Set 11 : lorengau\n",
      "Processing Record 19 of Set 11 : ust-uda\n",
      "Processing Record 20 of Set 11 : geghamasar\n",
      "Processing Record 21 of Set 11 : barcelos\n",
      "Processing Record 22 of Set 11 : porto novo\n",
      "Processing Record 23 of Set 11 : tres lagoas\n",
      "Processing Record 24 of Set 11 : cadiz\n",
      "Processing Record 25 of Set 11 : nadym\n",
      "Processing Record 26 of Set 11 : westport\n",
      "Processing Record 27 of Set 11 : zhuji\n",
      "Processing Record 28 of Set 11 : matara\n",
      "-----------------------------\n",
      "Data Retrieval Complete\n",
      "-----------------------------\n"
     ]
    }
   ],
   "source": [
    "print(\"Beginning Data Retrieval \")\n",
    "print(\"-----------------------------\")\n",
    "\n",
    "base_url = \"http://api.openweathermap.org/data/2.5/weather?\"\n",
    "units = \"imperial\"\n",
    "query_url = f\"{base_url}appid={weather_api_key}&units={units}&q=\"\n",
    "\n",
    "#use api call to gather current weather data and store data in created lists\n",
    "for index, city in enumerate(cities, start = 1):\n",
    "    try:\n",
    "        response = requests.get(query_url + city).json()\n",
    "        city_name_list.append(response[\"name\"])\n",
    "        cloudiness_list.append(response[\"clouds\"][\"all\"])\n",
    "        country_list.append(response[\"sys\"][\"country\"])\n",
    "        date_list.append(response[\"dt\"])\n",
    "        humidity_list.append(response[\"main\"][\"humidity\"])\n",
    "        lat_list.append(response[\"coord\"][\"lat\"])\n",
    "        lng_list.append(response[\"coord\"][\"lon\"])\n",
    "        max_temp_list.append(response['main']['temp_max'])\n",
    "        wind_speed_list.append(response[\"wind\"][\"speed\"])\n",
    "        \n",
    "        if index_counter > 49:\n",
    "            index_counter = 0\n",
    "            set_counter = set_counter + 1\n",
    "    \n",
    "        else:\n",
    "            index_counter = index_counter + 1\n",
    "            \n",
    "        print(f\"Processing Record {index_counter} of Set {set_counter} : {city}\") \n",
    "  \n",
    "    except(KeyError, IndexError):\n",
    "        print(\"City not found. Skipping...\")\n",
    "\n",
    "print(\"-----------------------------\")\n",
    "print(\"Data Retrieval Complete\")\n",
    "print(\"-----------------------------\")"
   ]
  },
  {
   "cell_type": "code",
   "execution_count": 5,
   "metadata": {},
   "outputs": [],
   "source": [
    "#generate dataframe with data\n",
    "weather_df = pd.DataFrame({\n",
    "    \"City\" : city_name_list,\n",
    "    \"Cloudiness\" : cloudiness_list,\n",
    "    \"Country\" : country_list,\n",
    "    \"Date\" : date_list,\n",
    "    \"Humidity\" : humidity_list,\n",
    "    \"Lat\" : lat_list,\n",
    "    \"Lng\" : lng_list,\n",
    "    \"Max Temp\" : max_temp_list,\n",
    "    \"Wind Speed\" : wind_speed_list\n",
    "})"
   ]
  },
  {
   "cell_type": "code",
   "execution_count": 6,
   "metadata": {},
   "outputs": [
    {
     "data": {
      "text/html": [
       "<div>\n",
       "<style scoped>\n",
       "    .dataframe tbody tr th:only-of-type {\n",
       "        vertical-align: middle;\n",
       "    }\n",
       "\n",
       "    .dataframe tbody tr th {\n",
       "        vertical-align: top;\n",
       "    }\n",
       "\n",
       "    .dataframe thead th {\n",
       "        text-align: right;\n",
       "    }\n",
       "</style>\n",
       "<table border=\"1\" class=\"dataframe\">\n",
       "  <thead>\n",
       "    <tr style=\"text-align: right;\">\n",
       "      <th></th>\n",
       "      <th>City</th>\n",
       "      <th>Cloudiness</th>\n",
       "      <th>Country</th>\n",
       "      <th>Date</th>\n",
       "      <th>Humidity</th>\n",
       "      <th>Lat</th>\n",
       "      <th>Lng</th>\n",
       "      <th>Max Temp</th>\n",
       "      <th>Wind Speed</th>\n",
       "    </tr>\n",
       "  </thead>\n",
       "  <tbody>\n",
       "    <tr>\n",
       "      <th>0</th>\n",
       "      <td>Mossamedes</td>\n",
       "      <td>0</td>\n",
       "      <td>AO</td>\n",
       "      <td>1626970311</td>\n",
       "      <td>58</td>\n",
       "      <td>-15.1961</td>\n",
       "      <td>12.1522</td>\n",
       "      <td>72.54</td>\n",
       "      <td>8.16</td>\n",
       "    </tr>\n",
       "    <tr>\n",
       "      <th>1</th>\n",
       "      <td>Ereymentau</td>\n",
       "      <td>0</td>\n",
       "      <td>KZ</td>\n",
       "      <td>1626970312</td>\n",
       "      <td>42</td>\n",
       "      <td>51.6199</td>\n",
       "      <td>73.1033</td>\n",
       "      <td>68.99</td>\n",
       "      <td>6.24</td>\n",
       "    </tr>\n",
       "    <tr>\n",
       "      <th>2</th>\n",
       "      <td>Kitob</td>\n",
       "      <td>0</td>\n",
       "      <td>UZ</td>\n",
       "      <td>1626970312</td>\n",
       "      <td>14</td>\n",
       "      <td>39.0843</td>\n",
       "      <td>66.8332</td>\n",
       "      <td>86.58</td>\n",
       "      <td>1.72</td>\n",
       "    </tr>\n",
       "    <tr>\n",
       "      <th>3</th>\n",
       "      <td>Vila Velha</td>\n",
       "      <td>75</td>\n",
       "      <td>BR</td>\n",
       "      <td>1626970312</td>\n",
       "      <td>70</td>\n",
       "      <td>-20.3297</td>\n",
       "      <td>-40.2925</td>\n",
       "      <td>75.96</td>\n",
       "      <td>12.66</td>\n",
       "    </tr>\n",
       "    <tr>\n",
       "      <th>4</th>\n",
       "      <td>Östersund</td>\n",
       "      <td>75</td>\n",
       "      <td>SE</td>\n",
       "      <td>1626970313</td>\n",
       "      <td>67</td>\n",
       "      <td>63.1792</td>\n",
       "      <td>14.6357</td>\n",
       "      <td>55.85</td>\n",
       "      <td>29.93</td>\n",
       "    </tr>\n",
       "    <tr>\n",
       "      <th>...</th>\n",
       "      <td>...</td>\n",
       "      <td>...</td>\n",
       "      <td>...</td>\n",
       "      <td>...</td>\n",
       "      <td>...</td>\n",
       "      <td>...</td>\n",
       "      <td>...</td>\n",
       "      <td>...</td>\n",
       "      <td>...</td>\n",
       "    </tr>\n",
       "    <tr>\n",
       "      <th>533</th>\n",
       "      <td>Cadiz</td>\n",
       "      <td>0</td>\n",
       "      <td>ES</td>\n",
       "      <td>1626970478</td>\n",
       "      <td>21</td>\n",
       "      <td>36.5000</td>\n",
       "      <td>-5.7500</td>\n",
       "      <td>99.12</td>\n",
       "      <td>11.32</td>\n",
       "    </tr>\n",
       "    <tr>\n",
       "      <th>534</th>\n",
       "      <td>Nadym</td>\n",
       "      <td>52</td>\n",
       "      <td>RU</td>\n",
       "      <td>1626970479</td>\n",
       "      <td>58</td>\n",
       "      <td>65.5333</td>\n",
       "      <td>72.5167</td>\n",
       "      <td>58.37</td>\n",
       "      <td>8.75</td>\n",
       "    </tr>\n",
       "    <tr>\n",
       "      <th>535</th>\n",
       "      <td>Westport</td>\n",
       "      <td>20</td>\n",
       "      <td>US</td>\n",
       "      <td>1626970479</td>\n",
       "      <td>55</td>\n",
       "      <td>41.1415</td>\n",
       "      <td>-73.3579</td>\n",
       "      <td>81.86</td>\n",
       "      <td>1.01</td>\n",
       "    </tr>\n",
       "    <tr>\n",
       "      <th>536</th>\n",
       "      <td>Zhuji</td>\n",
       "      <td>14</td>\n",
       "      <td>CN</td>\n",
       "      <td>1626970479</td>\n",
       "      <td>98</td>\n",
       "      <td>29.7188</td>\n",
       "      <td>120.2423</td>\n",
       "      <td>80.51</td>\n",
       "      <td>3.87</td>\n",
       "    </tr>\n",
       "    <tr>\n",
       "      <th>537</th>\n",
       "      <td>Matara</td>\n",
       "      <td>99</td>\n",
       "      <td>LK</td>\n",
       "      <td>1626970480</td>\n",
       "      <td>87</td>\n",
       "      <td>5.9485</td>\n",
       "      <td>80.5353</td>\n",
       "      <td>79.03</td>\n",
       "      <td>14.88</td>\n",
       "    </tr>\n",
       "  </tbody>\n",
       "</table>\n",
       "<p>538 rows × 9 columns</p>\n",
       "</div>"
      ],
      "text/plain": [
       "           City  Cloudiness Country        Date  Humidity      Lat       Lng  \\\n",
       "0    Mossamedes           0      AO  1626970311        58 -15.1961   12.1522   \n",
       "1    Ereymentau           0      KZ  1626970312        42  51.6199   73.1033   \n",
       "2         Kitob           0      UZ  1626970312        14  39.0843   66.8332   \n",
       "3    Vila Velha          75      BR  1626970312        70 -20.3297  -40.2925   \n",
       "4     Östersund          75      SE  1626970313        67  63.1792   14.6357   \n",
       "..          ...         ...     ...         ...       ...      ...       ...   \n",
       "533       Cadiz           0      ES  1626970478        21  36.5000   -5.7500   \n",
       "534       Nadym          52      RU  1626970479        58  65.5333   72.5167   \n",
       "535    Westport          20      US  1626970479        55  41.1415  -73.3579   \n",
       "536       Zhuji          14      CN  1626970479        98  29.7188  120.2423   \n",
       "537      Matara          99      LK  1626970480        87   5.9485   80.5353   \n",
       "\n",
       "     Max Temp  Wind Speed  \n",
       "0       72.54        8.16  \n",
       "1       68.99        6.24  \n",
       "2       86.58        1.72  \n",
       "3       75.96       12.66  \n",
       "4       55.85       29.93  \n",
       "..        ...         ...  \n",
       "533     99.12       11.32  \n",
       "534     58.37        8.75  \n",
       "535     81.86        1.01  \n",
       "536     80.51        3.87  \n",
       "537     79.03       14.88  \n",
       "\n",
       "[538 rows x 9 columns]"
      ]
     },
     "execution_count": 6,
     "metadata": {},
     "output_type": "execute_result"
    }
   ],
   "source": [
    "weather_df"
   ]
  },
  {
   "cell_type": "code",
   "execution_count": 7,
   "metadata": {},
   "outputs": [],
   "source": [
    "#save data to csv\n",
    "weather_df.to_csv(\"Data/city_data.csv\", index = False)"
   ]
  },
  {
   "cell_type": "code",
   "execution_count": 8,
   "metadata": {},
   "outputs": [
    {
     "data": {
      "image/png": "[encoded data removed]",
      "text/plain": [
       "<Figure size 432x288 with 1 Axes>"
      ]
     },
     "metadata": {
      "needs_background": "light"
     },
     "output_type": "display_data"
    }
   ],
   "source": [
    "# Now to plot the data against one another to see if correlations exist to answer the question 'What is the weather like as we move towards the equator?'\n",
    "# Temperature (F) vs. Latitude\n",
    "\n",
    "plt.scatter(weather_df[\"Lat\"], weather_df[\"Max Temp\"], facecolor = \"red\", edgecolor = \"black\")\n",
    "\n",
    "#labels\n",
    "plt.title('Latitude v Max temperature 07/19/2021')\n",
    "plt.xlabel('Latitude')\n",
    "plt.ylabel('Max Temperature (F)')\n",
    "\n",
    "#save png\n",
    "plt.savefig(\"Images/Lat_v_Max_Temp\")"
   ]
  },
  {
   "cell_type": "markdown",
   "metadata": {},
   "source": [
    "Observation:"
   ]
  },
  {
   "cell_type": "code",
   "execution_count": 9,
   "metadata": {},
   "outputs": [
    {
     "data": {
      "image/png": "[encoded data removed]",
      "text/plain": [
       "<Figure size 432x288 with 1 Axes>"
      ]
     },
     "metadata": {
      "needs_background": "light"
     },
     "output_type": "display_data"
    }
   ],
   "source": [
    "#Humidity (%) vs. Latitude\n",
    "plt.scatter(weather_df[\"Lat\"], weather_df[\"Humidity\"], facecolor = \"red\", edgecolor = \"black\")\n",
    "\n",
    "#labels\n",
    "plt.title('Latitude v Humidty (%) 07/19/2021')\n",
    "plt.xlabel('Latitude')\n",
    "plt.ylabel('Humidity %')\n",
    "\n",
    "#save png\n",
    "plt.savefig(\"Images/Lat_v_Humidity\")"
   ]
  },
  {
   "cell_type": "markdown",
   "metadata": {},
   "source": [
    "Observation: "
   ]
  },
  {
   "cell_type": "code",
   "execution_count": 10,
   "metadata": {},
   "outputs": [
    {
     "data": {
      "image/png": "[encoded data removed]",
      "text/plain": [
       "<Figure size 432x288 with 1 Axes>"
      ]
     },
     "metadata": {
      "needs_background": "light"
     },
     "output_type": "display_data"
    }
   ],
   "source": [
    "#Cloudiness (%) vs. Latitude\n",
    "plt.scatter(weather_df[\"Lat\"], weather_df[\"Cloudiness\"], facecolor = \"red\", edgecolor = \"black\")\n",
    "\n",
    "#labels\n",
    "plt.title('Latitude v Cloudiness (%) 07/19/2021')\n",
    "plt.xlabel('Latitude')\n",
    "plt.ylabel('Cloudiness (%)')\n",
    "\n",
    "#save png\n",
    "plt.savefig(\"Images/Lat_v_Cloudiness\")"
   ]
  },
  {
   "cell_type": "markdown",
   "metadata": {},
   "source": [
    "Observation:"
   ]
  },
  {
   "cell_type": "code",
   "execution_count": 11,
   "metadata": {},
   "outputs": [
    {
     "data": {
      "image/png": "[encoded data removed]",
      "text/plain": [
       "<Figure size 432x288 with 1 Axes>"
      ]
     },
     "metadata": {
      "needs_background": "light"
     },
     "output_type": "display_data"
    }
   ],
   "source": [
    "# Wind Speed (mph) vs. Latitude\n",
    "plt.scatter(weather_df[\"Lat\"], weather_df[\"Wind Speed\"], facecolor = \"red\", edgecolor = \"black\")\n",
    "\n",
    "#labels\n",
    "plt.title('Latitude v Wind Speed (mph)')\n",
    "plt.xlabel('Latitude')\n",
    "plt.ylabel('Wind Speed (mph)')\n",
    "\n",
    "#save png\n",
    "plt.savefig(\"Images/Lat_v_Wind\")"
   ]
  },
  {
   "cell_type": "markdown",
   "metadata": {},
   "source": [
    "Observation:"
   ]
  },
  {
   "cell_type": "code",
   "execution_count": 12,
   "metadata": {},
   "outputs": [],
   "source": [
    "#Northern Hemisphere and Southern Hemisphere DataFrames\n",
    "northern_hemisphere = weather_df.loc[weather_df[\"Lat\"] >=0]\n",
    "southern_hemisphere = weather_df.loc[weather_df[\"Lat\"] < 0]"
   ]
  },
  {
   "cell_type": "code",
   "execution_count": 13,
   "metadata": {},
   "outputs": [],
   "source": [
    "#Linear regression to analyze data points\n",
    "def linear_agression(x,y):\n",
    "    print(f\"The r-squared is : {round(st.pearsonr(x,y)[0],2)}\")\n",
    "    (slope, intercept, rvalue, pvalue, stderr) = linregress(x,y)\n",
    "    regress_values = x * slope + intercept\n",
    "    line_eq = \"y = \" + str(round(slope,2)) + \"x + \" + str(round(intercept,2))\n",
    "    plt.scatter(x,y)\n",
    "    plt.plot(x,regress_values,\"r-\")\n",
    "    return line_eq\n",
    "#annotation for equation of line...currently not cooperating\n",
    "def annotate(line_eq, a, b):\n",
    "    plt.annotate(line_eq,(a,b),fontsize=15, color=\"red\")"
   ]
  },
  {
   "cell_type": "code",
   "execution_count": 14,
   "metadata": {},
   "outputs": [
    {
     "name": "stdout",
     "output_type": "stream",
     "text": [
      "The r-squared is : -0.69\n"
     ]
    },
    {
     "data": {
      "image/png": "[encoded data removed]",
      "text/plain": [
       "<Figure size 432x288 with 1 Axes>"
      ]
     },
     "metadata": {
      "needs_background": "light"
     },
     "output_type": "display_data"
    }
   ],
   "source": [
    "# N. Hemisphere: Max Temp v Latitude\n",
    "equation = linear_agression(northern_hemisphere[\"Lat\"], northern_hemisphere[\"Max Temp\"])\n",
    "\n",
    "annotate(equation, 0, 40)\n",
    "\n"
   ]
  },
  {
   "cell_type": "markdown",
   "metadata": {},
   "source": [
    "Observation: "
   ]
  },
  {
   "cell_type": "code",
   "execution_count": 15,
   "metadata": {},
   "outputs": [
    {
     "name": "stdout",
     "output_type": "stream",
     "text": [
      "The r-squared is : 0.82\n"
     ]
    },
    {
     "data": {
      "image/png": "[encoded data removed]",
      "text/plain": [
       "<Figure size 432x288 with 1 Axes>"
      ]
     },
     "metadata": {
      "needs_background": "light"
     },
     "output_type": "display_data"
    }
   ],
   "source": [
    "# S. Hemisphere: Max Temp v Latitude\n",
    "equation = linear_agression(southern_hemisphere[\"Lat\"], southern_hemisphere[\"Max Temp\"])\n",
    "annotate(equation, -50, 80)"
   ]
  },
  {
   "cell_type": "markdown",
   "metadata": {},
   "source": [
    "Observation: "
   ]
  },
  {
   "cell_type": "code",
   "execution_count": 16,
   "metadata": {},
   "outputs": [
    {
     "name": "stdout",
     "output_type": "stream",
     "text": [
      "The r-squared is : 0.0\n"
     ]
    },
    {
     "data": {
      "image/png": "[encoded data removed]",
      "text/plain": [
       "<Figure size 432x288 with 1 Axes>"
      ]
     },
     "metadata": {
      "needs_background": "light"
     },
     "output_type": "display_data"
    }
   ],
   "source": [
    "# N. Hemisphere: Humidity (%) v Latitude\n",
    "equation = linear_agression(northern_hemisphere[\"Lat\"], northern_hemisphere[\"Humidity\"])\n",
    "annotate(equation, 40, 15)"
   ]
  },
  {
   "cell_type": "markdown",
   "metadata": {},
   "source": [
    "Observation:"
   ]
  },
  {
   "cell_type": "code",
   "execution_count": 17,
   "metadata": {},
   "outputs": [
    {
     "name": "stdout",
     "output_type": "stream",
     "text": [
      "The r-squared is : -0.12\n"
     ]
    },
    {
     "data": {
      "image/png": "[encoded data removed]",
      "text/plain": [
       "<Figure size 432x288 with 1 Axes>"
      ]
     },
     "metadata": {
      "needs_background": "light"
     },
     "output_type": "display_data"
    }
   ],
   "source": [
    "#S. Hemisphere: Humidty (%) v Latitude\n",
    "equation = linear_agression(southern_hemisphere[\"Lat\"], southern_hemisphere[\"Humidity\"])\n",
    "annotate(equation, -50, 25)"
   ]
  },
  {
   "cell_type": "markdown",
   "metadata": {},
   "source": [
    "Observation:"
   ]
  },
  {
   "cell_type": "code",
   "execution_count": 18,
   "metadata": {},
   "outputs": [
    {
     "name": "stdout",
     "output_type": "stream",
     "text": [
      "The r-squared is : 0.0\n"
     ]
    },
    {
     "data": {
      "image/png": "[encoded data removed]",
      "text/plain": [
       "<Figure size 432x288 with 1 Axes>"
      ]
     },
     "metadata": {
      "needs_background": "light"
     },
     "output_type": "display_data"
    }
   ],
   "source": [
    "# N. Hemisphere: Cloudiness (%) v Latitude\n",
    "equation = linear_agression(northern_hemisphere[\"Lat\"], northern_hemisphere[\"Cloudiness\"])\n",
    "annotate(equation, 20, 60)"
   ]
  },
  {
   "cell_type": "markdown",
   "metadata": {},
   "source": [
    "Observation:"
   ]
  },
  {
   "cell_type": "code",
   "execution_count": 19,
   "metadata": {},
   "outputs": [
    {
     "name": "stdout",
     "output_type": "stream",
     "text": [
      "The r-squared is : -0.07\n"
     ]
    },
    {
     "data": {
      "image/png": "[encoded data removed]",
      "text/plain": [
       "<Figure size 432x288 with 1 Axes>"
      ]
     },
     "metadata": {
      "needs_background": "light"
     },
     "output_type": "display_data"
    }
   ],
   "source": [
    "# S. Hemisphere: Cloudiness (%) v Latitude\n",
    "equation = linear_agression(southern_hemisphere[\"Lat\"], southern_hemisphere[\"Cloudiness\"])\n",
    "annotate(equation, -50, 30)"
   ]
  },
  {
   "cell_type": "markdown",
   "metadata": {},
   "source": [
    "Observation: "
   ]
  },
  {
   "cell_type": "code",
   "execution_count": 20,
   "metadata": {},
   "outputs": [
    {
     "name": "stdout",
     "output_type": "stream",
     "text": [
      "The r-squared is : -0.03\n"
     ]
    },
    {
     "data": {
      "image/png": "[encoded data removed]",
      "text/plain": [
       "<Figure size 432x288 with 1 Axes>"
      ]
     },
     "metadata": {
      "needs_background": "light"
     },
     "output_type": "display_data"
    }
   ],
   "source": [
    "# N. Hemisphere: Wind Speed (mph) v Latitude\n",
    "equation = linear_agression(northern_hemisphere[\"Lat\"], northern_hemisphere[\"Wind Speed\"])\n",
    "annotate(equation, 40, 25)"
   ]
  },
  {
   "cell_type": "markdown",
   "metadata": {},
   "source": [
    "Observation: "
   ]
  },
  {
   "cell_type": "code",
   "execution_count": 21,
   "metadata": {},
   "outputs": [
    {
     "name": "stdout",
     "output_type": "stream",
     "text": [
      "The r-squared is : -0.05\n"
     ]
    },
    {
     "data": {
      "image/png": "[encoded data removed]",
      "text/plain": [
       "<Figure size 432x288 with 1 Axes>"
      ]
     },
     "metadata": {
      "needs_background": "light"
     },
     "output_type": "display_data"
    }
   ],
   "source": [
    "# S. Hemisphere: Wind Speed (mph) v Latitude\n",
    "equation = linear_agression(southern_hemisphere[\"Lat\"], southern_hemisphere[\"Wind Speed\"])\n",
    "annotate(equation, -50, 20)\n"
   ]
  },
  {
   "cell_type": "markdown",
   "metadata": {},
   "source": [
    "Observation:"
   ]
  },
  {
   "cell_type": "code",
   "execution_count": null,
   "metadata": {},
   "outputs": [],
   "source": []
  }
 ],
 "metadata": {
  "kernelspec": {
   "display_name": "Python 3",
   "language": "python",
   "name": "python3"
  },
  "language_info": {
   "codemirror_mode": {
    "name": "ipython",
    "version": 3
   },
   "file_extension": ".py",
   "mimetype": "text/x-python",
   "name": "python",
   "nbconvert_exporter": "python",
   "pygments_lexer": "ipython3",
   "version": "3.8.5"
  }
 },
 "nbformat": 4,
 "nbformat_minor": 4
}
